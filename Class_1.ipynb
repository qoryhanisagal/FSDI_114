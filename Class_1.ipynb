{
 "cells": [
  {
   "cell_type": "code",
   "execution_count": 2,
   "id": "69c007ba-083c-4e3a-82fc-fbd70f10f80d",
   "metadata": {},
   "outputs": [
    {
     "name": "stdout",
     "output_type": "stream",
     "text": [
      "H\n",
      "e\n",
      "l\n",
      "l\n",
      "o\n",
      ",\n",
      " \n",
      "w\n",
      "o\n",
      "r\n",
      "l\n",
      "d\n"
     ]
    }
   ],
   "source": [
    "for char in \"Hello, world\":\n",
    "    print(char)\n",
    "\n",
    "# When you finish typing this, press SHIFT+ENTER"
   ]
  },
  {
   "cell_type": "markdown",
   "id": "fc7e8627-6336-4aad-ac4c-6ee172c3ee81",
   "metadata": {},
   "source": [
    "# Problem 1\n",
    "\n",
    "## Anagram Check\n",
    "\n",
    "Given a pair of strings parameters to your function, anagram_check, determine if these are anagrams of each other, Return True if they are, False otherwise.\n",
    "\n",
    "## Criteria \n",
    "Two strings are asaid to be anagrams of each other if all the criteria below are met:\n",
    "1. They must contain the same number of letters.\n",
    "2. They must use the same letters the same amount of times.\n",
    "\n",
    "```\n",
    "Examples:\n",
    "earth and heart\n",
    "cars and scar\n",
    "rats and star\n",
    "``` "
   ]
  },
  {
   "cell_type": "code",
   "execution_count": 9,
   "id": "7880c913-f1e2-471a-8138-70f201854ac2",
   "metadata": {},
   "outputs": [],
   "source": [
    "# Bad Solution (don;t use clever one liners!)\n",
    "def anagram_check (s1, s2):\n",
    "    return sorted(s1) == sorted(s2)"
   ]
  },
  {
   "cell_type": "code",
   "execution_count": 10,
   "id": "aaf0826b-0370-4f93-8663-11e77cf7f574",
   "metadata": {},
   "outputs": [
    {
     "data": {
      "text/plain": [
       "True"
      ]
     },
     "execution_count": 10,
     "metadata": {},
     "output_type": "execute_result"
    }
   ],
   "source": [
    "anagram_check(\"heart\", \"earth\")"
   ]
  },
  {
   "cell_type": "code",
   "execution_count": 11,
   "id": "0d07864a-3309-4ccf-a477-65f29a09f5a6",
   "metadata": {},
   "outputs": [
    {
     "data": {
      "text/plain": [
       "False"
      ]
     },
     "execution_count": 11,
     "metadata": {},
     "output_type": "execute_result"
    }
   ],
   "source": [
    "anagram_check(\"I am Lord Voldemort\", \"Tom Marvolo Riddle\")"
   ]
  },
  {
   "cell_type": "markdown",
   "id": "ba70f061-6c51-4961-97db-6c8aa54b1b0c",
   "metadata": {},
   "source": [
    "## Pseudocode for Anagram Check"
   ]
  },
  {
   "cell_type": "code",
   "execution_count": 16,
   "id": "4dd39288-20e6-4f1d-9231-e381a8cb820d",
   "metadata": {},
   "outputs": [
    {
     "data": {
      "text/plain": [
       "True"
      ]
     },
     "execution_count": 16,
     "metadata": {},
     "output_type": "execute_result"
    }
   ],
   "source": [
    "anagram_check(\"I am Lord Voldemort\", \"Tom Marvolo Riddle\")"
   ]
  },
  {
   "cell_type": "markdown",
   "id": "592165d6-e7c6-4d53-8984-97bee9e3da00",
   "metadata": {},
   "source": [
    "### Homework 1: Create pseudocode or a flowchart that solves the problem statement above, considering the Harry Potter example."
   ]
  },
  {
   "cell_type": "code",
   "execution_count": null,
   "id": "b5195123-b5bf-45fd-9114-d808d7f966cc",
   "metadata": {},
   "outputs": [],
   "source": [
    "---\n",
    "\n",
    "## Explanation of Logic Flow for Anagram Check\n",
    "\n",
    "1. **Start the Process.**  \n",
    "   - The function begins by accepting two string inputs.\n",
    "\n",
    "2. **Preprocessing the Strings.**  \n",
    "   - I remove any spaces and convert both strings to lowercase.  \n",
    "   - This ensures that differences in capitalization or extra spaces don’t affect the result.\n",
    "\n",
    "3. **Check if the Lengths are Equal.**  \n",
    "   - If the strings don’t have the same number of characters, they cannot be anagrams, so I immediately return `False`.  \n",
    "   - This is an optimization step to avoid unnecessary further checks.\n",
    "\n",
    "4. **Sort Both Strings.**  \n",
    "   - If the lengths are equal, I sort the characters of both strings.  \n",
    "   - Sorting allows me to directly compare the order and frequency of characters.\n",
    "\n",
    "5. **Compare the Sorted Strings.**  \n",
    "   - If the sorted versions of the strings match, that means they are anagrams, and I return `True`.  \n",
    "   - If they don’t match, I return `False`.\n",
    "\n",
    "6. **End the Process.**  \n",
    "   - The function completes after returning the appropriate result.\n",
    "\n",
    "---\n",
    "\n",
    "## Logic Check\n",
    "\n",
    "- It avoids unnecessary work by checking lengths first.  \n",
    "- Sorting the strings standardizes their format for easy comparison.  \n",
    "- It fully satisfies the definition of anagrams:  \n",
    "  - Same letters  \n",
    "  - Same frequency(Count of Each Chaaracter)  \n",
    "  - Same length  \n",
    "\n",
    "---"
   ]
  },
  {
   "cell_type": "markdown",
   "id": "d22c9cde-4420-4876-a074-c1fe14749393",
   "metadata": {},
   "source": [
    "![Anagram Flowchart](FSDI_114_Class1.drawio.svg)"
   ]
  },
  {
   "cell_type": "markdown",
   "id": "487de92b-7771-41d2-a521-26fddb5ed19a",
   "metadata": {},
   "source": [
    "def anagram_check(s1, s2):\n",
    "    # Preprocess: remove spaces and convert both strings to lowercase\n",
    "    s1 = s1.replace(\" \", \"\").lower()\n",
    "    s2 = s2.replace(\" \", \"\").lower()\n",
    "\n",
    "    # Quick length check to avoid unnecessary processing\n",
    "    if len(s1) != len(s2):\n",
    "        return False\n",
    "\n",
    "    # Sort both strings and compare\n",
    "    return sorted(s1) == sorted(s2)"
   ]
  },
  {
   "cell_type": "code",
   "execution_count": 38,
   "id": "ec72f226-0b8d-4b22-9d37-7bb3a8c1e75d",
   "metadata": {},
   "outputs": [
    {
     "data": {
      "text/plain": [
       "True"
      ]
     },
     "execution_count": 38,
     "metadata": {},
     "output_type": "execute_result"
    }
   ],
   "source": [
    "anagram_check(\"Severus Snape\", \"Perseus Evans\")"
   ]
  },
  {
   "cell_type": "code",
   "execution_count": 39,
   "id": "56e49cd5-79d3-4793-a3a5-15fbce051fb4",
   "metadata": {},
   "outputs": [
    {
     "data": {
      "text/plain": [
       "False"
      ]
     },
     "execution_count": 39,
     "metadata": {},
     "output_type": "execute_result"
    }
   ],
   "source": [
    "anagram_check(\"Godric Gryffindor\", \"Doric Gryffindors\")"
   ]
  },
  {
   "cell_type": "code",
   "execution_count": 40,
   "id": "f5f85326-48f9-409b-a96a-29fca50d5fb2",
   "metadata": {},
   "outputs": [
    {
     "data": {
      "text/plain": [
       "True"
      ]
     },
     "execution_count": 40,
     "metadata": {},
     "output_type": "execute_result"
    }
   ],
   "source": [
    "anagram_check(\"Deathly Hallows\", \"Shallowly Death\")"
   ]
  },
  {
   "cell_type": "markdown",
   "id": "7cdec9be-7023-447d-859e-8e91bb625fb6",
   "metadata": {},
   "source": [
    "#### Stacks and Queues"
   ]
  },
  {
   "cell_type": "markdown",
   "id": "7876e1c4-d6bf-4254-bdfc-36f23fe0a952",
   "metadata": {},
   "source": [
    "#### Stack\n",
    "A Stack is an ordered collection of elements where items are added and removed from the top."
   ]
  },
  {
   "cell_type": "markdown",
   "id": "c0712758-5282-4e1e-94b4-fd343ea7efc5",
   "metadata": {},
   "source": [
    "#### Simplified implementation of Stack (relying on built-ins)\n",
    "```\n",
    "class Stack:\n",
    "    def __init__(self):\n",
    "        self.items = []\n",
    "\n",
    "    def push(self, element):\n",
    "        self.items.append(element)\n",
    "\n",
    "    def pop(self):\n",
    "        return self.items.pop()\n",
    "\n",
    "    # Nice to have methods\n",
    "    def peek(self):\n",
    "        return self.items[len(self.items) - 1]\n",
    "\n",
    "    def size(self):\n",
    "        return len(self.items)\n",
    "\n",
    "    def is_empty(self):\n",
    "        return self.items == []\n",
    "```"
   ]
  },
  {
   "cell_type": "markdown",
   "id": "2a54bace-dc27-4515-8005-b5c67b7982e6",
   "metadata": {},
   "source": [
    "#### Queue\n",
    "A Queue is an ordered collection of elements where items are added to the back and removed from the front."
   ]
  },
  {
   "cell_type": "markdown",
   "id": "3013d6ec-53fe-4804-bbf3-44438b94ab66",
   "metadata": {},
   "source": [
    "# Simplified implementation of Queue (relying on built-ins)\n",
    "```\n",
    "class Queue:\n",
    "    def __init__(self):\n",
    "        self.items = []\n",
    "\n",
    "    def enqueue(self, element):\n",
    "        self.items.insert(0, element)  # Add to the front of the list\n",
    "        # Every time I enqueue, all existing elements are shifted right to make room at the start of the list(insert(0,element))\n",
    "        # queue.enqueue(\"A\")  # self.items = ['A']\n",
    "        # queue.enqueue(\"B\")  # self.items = ['B', 'A']\n",
    "\n",
    "    def dequeue(self):\n",
    "        return self.items.pop()  # Remove from the end (oldest item)\n",
    "        \n",
    "        # queue.dequeue()  # Removes 'A' (first item added)\n",
    "\n",
    "    # Nice to have methods\n",
    "    def peek(self):\n",
    "        return self.items[len(self.items) - 1]  # Look at the front of the queue\n",
    "\n",
    "        # queue.peek()  # Returns 'A' but does not remove it.\n",
    "\n",
    "    def size(self):\n",
    "        return len(self.items)  # Return the number of items in the queue\n",
    "\n",
    "        # queue.size()  # Returns the length of self.items\n",
    "\n",
    "    def is_empty(self):\n",
    "        return self.items == []  # Check if the queue is empty\n",
    "\n",
    "        # queue.is_empty()  # Returns True if self.items = []\n",
    "```"
   ]
  },
  {
   "cell_type": "markdown",
   "id": "6688dd2d-212f-4aa7-bbdb-18f79b320afa",
   "metadata": {},
   "source": [
    "# Problem 2\n",
    "\n",
    "## Invert a String\n",
    "\n",
    "Given a string as a parameter to your function, `invert_str`, invert it, such that the string is returned in inverted order as in the examples below:"
   ]
  },
  {
   "cell_type": "markdown",
   "id": "f32ba1d4-8837-42cb-87eb-966eb7cbc136",
   "metadata": {},
   "source": [
    "### Criteria\n",
    "You **must use one of the data structures below**. Your function **must create an instance of one of the classes above**."
   ]
  },
  {
   "cell_type": "markdown",
   "id": "8b324ce9-78fa-499b-bc7c-a590df666ba0",
   "metadata": {},
   "source": [
    "```\n",
    "def invert_str(mystring):\n",
    "    stack = Stack()                  # Step 1: Create an empty stack\n",
    "    for char in mystring:            \n",
    "        stack.push(char)              # Step 2: Push each character onto the stack\n",
    "    \n",
    "    out = \"\"                          # Step 3: Prepare an empty string for the result\n",
    "    while not stack.is_empty():       \n",
    "        out += stack.pop()            # Step 4: Pop characters off and append to result\n",
    "\n",
    "    return out                        # Step 5: Return the reversed string\n",
    "```"
   ]
  },
  {
   "cell_type": "markdown",
   "id": "36599f60-9ef4-4d80-a44d-2db4e4e7796a",
   "metadata": {},
   "source": [
    "#### Using Queue"
   ]
  },
  {
   "cell_type": "markdown",
   "id": "12994338-40ab-47d4-be4a-b2960b5fd0c6",
   "metadata": {},
   "source": [
    "```\n",
    "def invert_str(mystring):\n",
    "    queue = Queue()  # Step 1: Create an empty queue\n",
    "    \n",
    "    # Step 2: Enqueue each character onto the queue\n",
    "    for char in mystring:\n",
    "        queue.enqueue(char)\n",
    "\n",
    "    out = \"\"  # Step 3: Prepare an empty string for the result\n",
    "    \n",
    "    # Step 4: Dequeue characters and build the reversed string\n",
    "    while not queue.is_empty():\n",
    "        out = queue.dequeue() + out  # Prepend character to reverse order\n",
    "\n",
    "    return out  # Step 5: Return the reversed string\n",
    "```"
   ]
  },
  {
   "cell_type": "markdown",
   "id": "f85ef153-48ff-460f-86f3-e439c008292b",
   "metadata": {},
   "source": [
    "Instead of popping from the end (like in a stack), I dequeue from the front.\n",
    "To reverse the string, I prepend each dequeued character to the output string:\n",
    "```\n",
    "out = queue.dequeue() + out\n",
    "```\n",
    "for this I want to make sure the first character enqueued ends up at the end of the fina string"
   ]
  },
  {
   "cell_type": "code",
   "execution_count": null,
   "id": "a069d7aa-ed61-426c-81b9-299bec0d2430",
   "metadata": {},
   "outputs": [],
   "source": []
  }
 ],
 "metadata": {
  "kernelspec": {
   "display_name": "Python 3 (ipykernel)",
   "language": "python",
   "name": "python3"
  },
  "language_info": {
   "codemirror_mode": {
    "name": "ipython",
    "version": 3
   },
   "file_extension": ".py",
   "mimetype": "text/x-python",
   "name": "python",
   "nbconvert_exporter": "python",
   "pygments_lexer": "ipython3",
   "version": "3.13.2"
  }
 },
 "nbformat": 4,
 "nbformat_minor": 5
}
