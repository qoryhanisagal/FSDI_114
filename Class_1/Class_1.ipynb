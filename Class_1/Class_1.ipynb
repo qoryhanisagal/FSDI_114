{
 "cells": [
  {
   "cell_type": "code",
   "execution_count": 2,
   "id": "69c007ba-083c-4e3a-82fc-fbd70f10f80d",
   "metadata": {},
   "outputs": [
    {
     "name": "stdout",
     "output_type": "stream",
     "text": [
      "H\n",
      "e\n",
      "l\n",
      "l\n",
      "o\n",
      ",\n",
      " \n",
      "w\n",
      "o\n",
      "r\n",
      "l\n",
      "d\n"
     ]
    }
   ],
   "source": [
    "for char in \"Hello, world\":\n",
    "    print(char)\n",
    "\n",
    "# When you finish typing this, press SHIFT+ENTER"
   ]
  },
  {
   "cell_type": "markdown",
   "id": "fc7e8627-6336-4aad-ac4c-6ee172c3ee81",
   "metadata": {},
   "source": [
    "# Problem 1\n",
    "\n",
    "## Anagram Check\n",
    "\n",
    "Given a pair of strings parameters to your function, anagram_check, determine if these are anagrams of each other, Return True if they are, False otherwise.\n",
    "\n",
    "## Criteria \n",
    "Two strings are asaid to be anagrams of each other if all the criteria below are met:\n",
    "1. They must contain the same number of letters.\n",
    "2. They must use the same letters the same amount of times.\n",
    "\n",
    "```\n",
    "Examples:\n",
    "earth and heart\n",
    "cars and scar\n",
    "rats and star\n",
    "``` "
   ]
  },
  {
   "cell_type": "code",
   "execution_count": 9,
   "id": "7880c913-f1e2-471a-8138-70f201854ac2",
   "metadata": {},
   "outputs": [],
   "source": [
    "# Bad Solution (don;t use clever one liners!)\n",
    "def anagram_check (s1, s2):\n",
    "    return sorted(s1) == sorted(s2)"
   ]
  },
  {
   "cell_type": "code",
   "execution_count": 10,
   "id": "aaf0826b-0370-4f93-8663-11e77cf7f574",
   "metadata": {},
   "outputs": [
    {
     "data": {
      "text/plain": [
       "True"
      ]
     },
     "execution_count": 10,
     "metadata": {},
     "output_type": "execute_result"
    }
   ],
   "source": [
    "anagram_check(\"heart\", \"earth\")"
   ]
  },
  {
   "cell_type": "code",
   "execution_count": 11,
   "id": "0d07864a-3309-4ccf-a477-65f29a09f5a6",
   "metadata": {},
   "outputs": [
    {
     "data": {
      "text/plain": [
       "False"
      ]
     },
     "execution_count": 11,
     "metadata": {},
     "output_type": "execute_result"
    }
   ],
   "source": [
    "anagram_check(\"I am Lord Voldemort\", \"Tom Marvolo Riddle\")"
   ]
  },
  {
   "cell_type": "markdown",
   "id": "ba70f061-6c51-4961-97db-6c8aa54b1b0c",
   "metadata": {},
   "source": [
    "## Pseudocode for Anagram Check"
   ]
  },
  {
   "cell_type": "code",
   "execution_count": 16,
   "id": "4dd39288-20e6-4f1d-9231-e381a8cb820d",
   "metadata": {},
   "outputs": [
    {
     "data": {
      "text/plain": [
       "True"
      ]
     },
     "execution_count": 16,
     "metadata": {},
     "output_type": "execute_result"
    }
   ],
   "source": [
    "anagram_check(\"I am Lord Voldemort\", \"Tom Marvolo Riddle\")"
   ]
  },
  {
   "cell_type": "markdown",
   "id": "592165d6-e7c6-4d53-8984-97bee9e3da00",
   "metadata": {},
   "source": [
    "### Homework 1: Create pseudocode or a flowchart that solves the problem statement above, considering the Harry Potter example."
   ]
  },
  {
   "cell_type": "code",
   "execution_count": null,
   "id": "8b736bc0-7098-4ea4-ab72-41a4a291f8a7",
   "metadata": {},
   "outputs": [],
   "source": [
    "# Homework 1: Create pseudocode or a flowchart that solves the problem statement above, considering the Harry Potter example.\n",
    "\n",
    "# define function anagram_check with parameters: s1 and s2\n",
    "#   s1 = s1 without spaces\n",
    "#   s2 = s2 without spaces\n",
    "#   s1 = s1 in lower case\n",
    "#   s2 = s2 in lower case\n",
    "#   \n",
    "#   if the length of s1 is not equal to the length of s2:\n",
    "#       return False\n",
    "#   \n",
    "#   d1 = new dictionary\n",
    "#   d2 = new dictionary\n",
    "#   \n",
    "#   for number in the range 0 to the length of s1:\n",
    "#       if the letter at position \"number\" in s1 is in d1:\n",
    "#           add 1 to the current value associated with that letter in d1\n",
    "#       otherwise:\n",
    "#           create a new entry for that letter in d1 and set its value to 1\n",
    "#       \n",
    "#       if the letter at position \"number\" in s2 is in d2:\n",
    "#           add 1 to the current value associated with that letter in d2\n",
    "#       otherwise:\n",
    "#           create a new entry for that letter in d2 and set its value to 1\n",
    "#   \n",
    "#   if d1 is equal to d2:\n",
    "#       return True\n",
    "#   otherwise:\n",
    "#       return False"
   ]
  },
  {
   "cell_type": "code",
   "execution_count": 10,
   "id": "fa303baf-055e-47ec-beda-a7324592b426",
   "metadata": {},
   "outputs": [
    {
     "name": "stdout",
     "output_type": "stream",
     "text": [
      "Step 1: d1 = {'i': 1}\n",
      "Step 1: d2 = {'t': 1}\n",
      "----------------------------------------\n",
      "Step 2: d1 = {'i': 1, 'a': 1}\n",
      "Step 2: d2 = {'t': 1, 'o': 1}\n",
      "----------------------------------------\n",
      "Step 3: d1 = {'i': 1, 'a': 1, 'm': 1}\n",
      "Step 3: d2 = {'t': 1, 'o': 1, 'm': 1}\n",
      "----------------------------------------\n",
      "Step 4: d1 = {'i': 1, 'a': 1, 'm': 1, 'l': 1}\n",
      "Step 4: d2 = {'t': 1, 'o': 1, 'm': 2}\n",
      "----------------------------------------\n",
      "Step 5: d1 = {'i': 1, 'a': 1, 'm': 1, 'l': 1, 'o': 1}\n",
      "Step 5: d2 = {'t': 1, 'o': 1, 'm': 2, 'a': 1}\n",
      "----------------------------------------\n",
      "Step 6: d1 = {'i': 1, 'a': 1, 'm': 1, 'l': 1, 'o': 1, 'r': 1}\n",
      "Step 6: d2 = {'t': 1, 'o': 1, 'm': 2, 'a': 1, 'r': 1}\n",
      "----------------------------------------\n",
      "Step 7: d1 = {'i': 1, 'a': 1, 'm': 1, 'l': 1, 'o': 1, 'r': 1, 'd': 1}\n",
      "Step 7: d2 = {'t': 1, 'o': 1, 'm': 2, 'a': 1, 'r': 1, 'v': 1}\n",
      "----------------------------------------\n",
      "Step 8: d1 = {'i': 1, 'a': 1, 'm': 1, 'l': 1, 'o': 1, 'r': 1, 'd': 1, 'v': 1}\n",
      "Step 8: d2 = {'t': 1, 'o': 2, 'm': 2, 'a': 1, 'r': 1, 'v': 1}\n",
      "----------------------------------------\n",
      "Step 9: d1 = {'i': 1, 'a': 1, 'm': 1, 'l': 1, 'o': 2, 'r': 1, 'd': 1, 'v': 1}\n",
      "Step 9: d2 = {'t': 1, 'o': 2, 'm': 2, 'a': 1, 'r': 1, 'v': 1, 'l': 1}\n",
      "----------------------------------------\n",
      "Step 10: d1 = {'i': 1, 'a': 1, 'm': 1, 'l': 2, 'o': 2, 'r': 1, 'd': 1, 'v': 1}\n",
      "Step 10: d2 = {'t': 1, 'o': 3, 'm': 2, 'a': 1, 'r': 1, 'v': 1, 'l': 1}\n",
      "----------------------------------------\n",
      "Step 11: d1 = {'i': 1, 'a': 1, 'm': 1, 'l': 2, 'o': 2, 'r': 1, 'd': 2, 'v': 1}\n",
      "Step 11: d2 = {'t': 1, 'o': 3, 'm': 2, 'a': 1, 'r': 2, 'v': 1, 'l': 1}\n",
      "----------------------------------------\n",
      "Step 12: d1 = {'i': 1, 'a': 1, 'm': 1, 'l': 2, 'o': 2, 'r': 1, 'd': 2, 'v': 1, 'e': 1}\n",
      "Step 12: d2 = {'t': 1, 'o': 3, 'm': 2, 'a': 1, 'r': 2, 'v': 1, 'l': 1, 'i': 1}\n",
      "----------------------------------------\n",
      "Step 13: d1 = {'i': 1, 'a': 1, 'm': 2, 'l': 2, 'o': 2, 'r': 1, 'd': 2, 'v': 1, 'e': 1}\n",
      "Step 13: d2 = {'t': 1, 'o': 3, 'm': 2, 'a': 1, 'r': 2, 'v': 1, 'l': 1, 'i': 1, 'd': 1}\n",
      "----------------------------------------\n",
      "Step 14: d1 = {'i': 1, 'a': 1, 'm': 2, 'l': 2, 'o': 3, 'r': 1, 'd': 2, 'v': 1, 'e': 1}\n",
      "Step 14: d2 = {'t': 1, 'o': 3, 'm': 2, 'a': 1, 'r': 2, 'v': 1, 'l': 1, 'i': 1, 'd': 2}\n",
      "----------------------------------------\n",
      "Step 15: d1 = {'i': 1, 'a': 1, 'm': 2, 'l': 2, 'o': 3, 'r': 2, 'd': 2, 'v': 1, 'e': 1}\n",
      "Step 15: d2 = {'t': 1, 'o': 3, 'm': 2, 'a': 1, 'r': 2, 'v': 1, 'l': 2, 'i': 1, 'd': 2}\n",
      "----------------------------------------\n",
      "Step 16: d1 = {'i': 1, 'a': 1, 'm': 2, 'l': 2, 'o': 3, 'r': 2, 'd': 2, 'v': 1, 'e': 1, 't': 1}\n",
      "Step 16: d2 = {'t': 1, 'o': 3, 'm': 2, 'a': 1, 'r': 2, 'v': 1, 'l': 2, 'i': 1, 'd': 2, 'e': 1}\n",
      "----------------------------------------\n",
      "Final Comparison:\n",
      "d1 = {'i': 1, 'a': 1, 'm': 2, 'l': 2, 'o': 3, 'r': 2, 'd': 2, 'v': 1, 'e': 1, 't': 1}\n",
      "d2 = {'t': 1, 'o': 3, 'm': 2, 'a': 1, 'r': 2, 'v': 1, 'l': 2, 'i': 1, 'd': 2, 'e': 1}\n",
      "Result: True\n"
     ]
    },
    {
     "data": {
      "text/plain": [
       "True"
      ]
     },
     "execution_count": 10,
     "metadata": {},
     "output_type": "execute_result"
    }
   ],
   "source": [
    "def anagram_check(s1, s2):\n",
    "    # Step: 1: Preprocess the stringss - remove spaces and convert to lowercase\n",
    "    s1 = s1.replace(\" \", \"\").lower()\n",
    "    # This replaces every space \" \" in the string with an empty string \"\". It remove all space from the string because spaces don’t matter for anagrams\n",
    "    s2 = s2.replace(\" \", \"\").lower()\n",
    "    # Converts the entire string to lowercase so the comparison becomes case-insensitive. Upper case letters and lowercase letter are treated as the same letter\n",
    "\n",
    "    # Step 2: Quick check - if lengths are different, can't be anagrams\n",
    "    # len is a bulit in function in Python that returns the number of items in an object\n",
    "    if len(s1) != len(s2):\n",
    "        return False\n",
    "\n",
    "    # Step 3: Create dictionaries to count character frequency\n",
    "    # Emoty dictionaries to count how many times each letter appears in each string. It stores tge coubt if each characterin s1 and s2.\n",
    "    d1 = {}\n",
    "    d2 = {}\n",
    "\n",
    "    # Step 4: Count character for both strings\n",
    "    # I need to loop over each index i from 0 to len s1. I building a frequency counter, so count how may times each letter appears in both springs\n",
    "            # For s1\n",
    "    for num in range(len(s1)):\n",
    "        if s1[num] in d1:\n",
    "            d1[s1[num]] +=1\n",
    "        else: \n",
    "            d1[s1[num]] = 1\n",
    "        # For s2\n",
    "        if s2[num] in d2:\n",
    "            d2[s2[num]] +=1\n",
    "        else: \n",
    "            d2[s2[num]] = 1\n",
    "\n",
    "        # Print dictionaries after each loop iteration\n",
    "        print(f\"Step {num + 1}: d1 = {d1}\")\n",
    "        print(f\"Step {num + 1}: d2 = {d2}\")\n",
    "        print(\"-\" * 40)\n",
    "        \n",
    "    # Step 5: Compare the teo dictionaries\n",
    "    result = d1 ==d2\n",
    "    print(f\"Final Comparison:\\nd1 = {d1}\\nd2 = {d2}\\nResult: {result}\")\n",
    "    return result\n",
    "anagram_check('I am Lord Voldemort', 'Tom Marvolo Riddle')"
   ]
  },
  {
   "cell_type": "code",
   "execution_count": null,
   "id": "5e2ec676-f564-4ae6-bba5-3b3b002eac07",
   "metadata": {},
   "outputs": [],
   "source": []
  },
  {
   "cell_type": "code",
   "execution_count": null,
   "id": "224168d2-d1bc-4a10-a1c2-8459bad0a379",
   "metadata": {},
   "outputs": [],
   "source": []
  },
  {
   "cell_type": "code",
   "execution_count": null,
   "id": "e59b1b07-1dd7-404f-8e07-c9c339bc2434",
   "metadata": {},
   "outputs": [],
   "source": []
  },
  {
   "cell_type": "markdown",
   "id": "854ecd9e-9423-4a1b-b631-0cc3c720c8a0",
   "metadata": {},
   "source": [
    "---\n",
    "\n",
    "## Explanation of Logic Flow for Anagram Check\n",
    "\n",
    "1. **Start the Process.**  \n",
    "   - The function begins by accepting two string inputs.\n",
    "\n",
    "2. **Preprocessing the Strings.**  \n",
    "   - I remove any spaces and convert both strings to lowercase.  \n",
    "   - This ensures that differences in capitalization or extra spaces don’t affect the result.\n",
    "\n",
    "3. **Check if the Lengths are Equal.**  \n",
    "   - If the strings don’t have the same number of characters, they cannot be anagrams, so I immediately return `False`.  \n",
    "   - This is an optimization step to avoid unnecessary further checks.\n",
    "\n",
    "4. **Sort Both Strings.**  \n",
    "   - If the lengths are equal, I sort the characters of both strings.  \n",
    "   - Sorting allows me to directly compare the order and frequency of characters.\n",
    "\n",
    "5. **Compare the Sorted Strings.**  \n",
    "   - If the sorted versions of the strings match, that means they are anagrams, and I return `True`.  \n",
    "   - If they don’t match, I return `False`.\n",
    "\n",
    "6. **End the Process.**  \n",
    "   - The function completes after returning the appropriate result.\n",
    "\n",
    "---\n",
    "\n",
    "## Logic Check\n",
    "\n",
    "- It avoids unnecessary work by checking lengths first.  \n",
    "- Sorting the strings standardizes their format for easy comparison.  \n",
    "- It fully satisfies the definition of anagrams:  \n",
    "  - Same letters  \n",
    "  - Same frequency(Count of Each Chaaracter)  \n",
    "  - Same length  \n",
    "\n",
    "---"
   ]
  },
  {
   "cell_type": "markdown",
   "id": "d22c9cde-4420-4876-a074-c1fe14749393",
   "metadata": {},
   "source": [
    "![Anagram Flowchart](FSDI_114_Class1.drawio.svg)"
   ]
  },
  {
   "cell_type": "code",
   "execution_count": null,
   "id": "5e8bbe22-8e3b-470c-a2f4-db9e416c5764",
   "metadata": {},
   "outputs": [],
   "source": [
    "def anagram_check(s1, s2):\n",
    "    # Preprocess: remove spaces and convert both strings to lowercase\n",
    "    s1 = s1.replace(\" \", \"\").lower()\n",
    "    s2 = s2.replace(\" \", \"\").lower()\n",
    "\n",
    "    # Quick length check to avoid unnecessary processing\n",
    "    if len(s1) != len(s2):\n",
    "        return False\n",
    "\n",
    "    # Sort both strings and compare\n",
    "    return sorted(s1) == sorted(s2)\n",
    "\n",
    "sorted(\"g\")"
   ]
  },
  {
   "cell_type": "code",
   "execution_count": 38,
   "id": "ec72f226-0b8d-4b22-9d37-7bb3a8c1e75d",
   "metadata": {},
   "outputs": [
    {
     "data": {
      "text/plain": [
       "True"
      ]
     },
     "execution_count": 38,
     "metadata": {},
     "output_type": "execute_result"
    }
   ],
   "source": [
    "anagram_check(\"Severus Snape\", \"Perseus Evans\")"
   ]
  },
  {
   "cell_type": "code",
   "execution_count": 39,
   "id": "56e49cd5-79d3-4793-a3a5-15fbce051fb4",
   "metadata": {},
   "outputs": [
    {
     "data": {
      "text/plain": [
       "False"
      ]
     },
     "execution_count": 39,
     "metadata": {},
     "output_type": "execute_result"
    }
   ],
   "source": [
    "anagram_check(\"Godric Gryffindor\", \"Doric Gryffindors\")"
   ]
  },
  {
   "cell_type": "code",
   "execution_count": 40,
   "id": "f5f85326-48f9-409b-a96a-29fca50d5fb2",
   "metadata": {},
   "outputs": [
    {
     "data": {
      "text/plain": [
       "True"
      ]
     },
     "execution_count": 40,
     "metadata": {},
     "output_type": "execute_result"
    }
   ],
   "source": [
    "anagram_check(\"Deathly Hallows\", \"Shallowly Death\")"
   ]
  },
  {
   "cell_type": "markdown",
   "id": "7cdec9be-7023-447d-859e-8e91bb625fb6",
   "metadata": {},
   "source": [
    "#### Stacks and Queues"
   ]
  },
  {
   "cell_type": "markdown",
   "id": "7876e1c4-d6bf-4254-bdfc-36f23fe0a952",
   "metadata": {},
   "source": [
    "#### Stack\n",
    "A Stack is an ordered collection of elements where items are added and removed from the top."
   ]
  },
  {
   "cell_type": "markdown",
   "id": "c0712758-5282-4e1e-94b4-fd343ea7efc5",
   "metadata": {},
   "source": [
    "#### Simplified implementation of Stack (relying on built-ins)\n",
    "```\n",
    "class Stack:\n",
    "    def __init__(self):\n",
    "        self.items = []\n",
    "\n",
    "    def push(self, element):\n",
    "        self.items.append(element)\n",
    "\n",
    "    def pop(self):\n",
    "        return self.items.pop()\n",
    "\n",
    "    # Nice to have methods\n",
    "    def peek(self):\n",
    "        return self.items[len(self.items) - 1]\n",
    "\n",
    "    def size(self):\n",
    "        return len(self.items)\n",
    "\n",
    "    def is_empty(self):\n",
    "        return self.items == []\n",
    "```"
   ]
  },
  {
   "cell_type": "markdown",
   "id": "2a54bace-dc27-4515-8005-b5c67b7982e6",
   "metadata": {},
   "source": [
    "#### Queue\n",
    "A Queue is an ordered collection of elements where items are added to the back and removed from the front."
   ]
  },
  {
   "cell_type": "markdown",
   "id": "3013d6ec-53fe-4804-bbf3-44438b94ab66",
   "metadata": {},
   "source": [
    "# Simplified implementation of Queue (relying on built-ins)\n",
    "```\n",
    "class Queue:\n",
    "    def __init__(self):\n",
    "        self.items = []\n",
    "\n",
    "    def enqueue(self, element):\n",
    "        self.items.insert(0, element)  # Add to the front of the list\n",
    "        # Every time I enqueue, all existing elements are shifted right to make room at the start of the list(insert(0,element))\n",
    "        # queue.enqueue(\"A\")  # self.items = ['A']\n",
    "        # queue.enqueue(\"B\")  # self.items = ['B', 'A']\n",
    "\n",
    "    def dequeue(self):\n",
    "        return self.items.pop()  # Remove from the end (oldest item)\n",
    "        \n",
    "        # queue.dequeue()  # Removes 'A' (first item added)\n",
    "\n",
    "    # Nice to have methods\n",
    "    def peek(self):\n",
    "        return self.items[len(self.items) - 1]  # Look at the front of the queue\n",
    "\n",
    "        # queue.peek()  # Returns 'A' but does not remove it.\n",
    "\n",
    "    def size(self):\n",
    "        return len(self.items)  # Return the number of items in the queue\n",
    "\n",
    "        # queue.size()  # Returns the length of self.items\n",
    "\n",
    "    def is_empty(self):\n",
    "        return self.items == []  # Check if the queue is empty\n",
    "\n",
    "        # queue.is_empty()  # Returns True if self.items = []\n",
    "```"
   ]
  },
  {
   "cell_type": "markdown",
   "id": "6688dd2d-212f-4aa7-bbdb-18f79b320afa",
   "metadata": {},
   "source": [
    "# Problem 2\n",
    "\n",
    "## Invert a String\n",
    "\n",
    "Given a string as a parameter to your function, `invert_str`, invert it, such that the string is returned in inverted order as in the examples below:"
   ]
  },
  {
   "cell_type": "markdown",
   "id": "f32ba1d4-8837-42cb-87eb-966eb7cbc136",
   "metadata": {},
   "source": [
    "### Criteria\n",
    "You **must use one of the data structures below**. Your function **must create an instance of one of the classes above**."
   ]
  },
  {
   "cell_type": "markdown",
   "id": "8b324ce9-78fa-499b-bc7c-a590df666ba0",
   "metadata": {},
   "source": [
    "```\n",
    "def invert_str(mystring):\n",
    "    stack = Stack()                  # Step 1: Create an empty stack\n",
    "    for char in mystring:            \n",
    "        stack.push(char)              # Step 2: Push each character onto the stack\n",
    "    \n",
    "    out = \"\"                          # Step 3: Prepare an empty string for the result\n",
    "    while not stack.is_empty():       \n",
    "        out += stack.pop()            # Step 4: Pop characters off and append to result\n",
    "\n",
    "    return out                        # Step 5: Return the reversed string\n",
    "```"
   ]
  },
  {
   "cell_type": "markdown",
   "id": "36599f60-9ef4-4d80-a44d-2db4e4e7796a",
   "metadata": {},
   "source": [
    "#### Using Queue"
   ]
  },
  {
   "cell_type": "markdown",
   "id": "12994338-40ab-47d4-be4a-b2960b5fd0c6",
   "metadata": {},
   "source": [
    "```\n",
    "def invert_str(mystring):\n",
    "    queue = Queue()  # Step 1: Create an empty queue\n",
    "    \n",
    "    # Step 2: Enqueue each character onto the queue\n",
    "    for char in mystring:\n",
    "        queue.enqueue(char)\n",
    "\n",
    "    out = \"\"  # Step 3: Prepare an empty string for the result\n",
    "    \n",
    "    # Step 4: Dequeue characters and build the reversed string\n",
    "    while not queue.is_empty():\n",
    "        out = queue.dequeue() + out  # Prepend character to reverse order\n",
    "\n",
    "    return out  # Step 5: Return the reversed string\n",
    "```"
   ]
  },
  {
   "cell_type": "markdown",
   "id": "f85ef153-48ff-460f-86f3-e439c008292b",
   "metadata": {},
   "source": [
    "Instead of popping from the end (like in a stack), I dequeue from the front.\n",
    "To reverse the string, I prepend each dequeued character to the output string:\n",
    "```\n",
    "out = queue.dequeue() + out\n",
    "```\n",
    "for this I want to make sure the first character enqueued ends up at the end of the fina string"
   ]
  },
  {
   "cell_type": "code",
   "execution_count": null,
   "id": "a069d7aa-ed61-426c-81b9-299bec0d2430",
   "metadata": {},
   "outputs": [],
   "source": []
  }
 ],
 "metadata": {
  "kernelspec": {
   "display_name": "Python 3 (ipykernel)",
   "language": "python",
   "name": "python3"
  },
  "language_info": {
   "codemirror_mode": {
    "name": "ipython",
    "version": 3
   },
   "file_extension": ".py",
   "mimetype": "text/x-python",
   "name": "python",
   "nbconvert_exporter": "python",
   "pygments_lexer": "ipython3",
   "version": "3.13.2"
  }
 },
 "nbformat": 4,
 "nbformat_minor": 5
}
