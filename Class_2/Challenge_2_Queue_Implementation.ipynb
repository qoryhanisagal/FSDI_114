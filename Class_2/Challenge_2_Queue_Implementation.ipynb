{
 "cells": [
  {
   "cell_type": "markdown",
   "id": "a4860e9a-7ae9-4a09-9259-b03f217bfee9",
   "metadata": {},
   "source": [
    "## Challenge 2\n",
    "- Considering what we've learned about stacks and queues, use the Queueclass from notebook 1, to implment a \"from scratch\" version of Queue similar to the from scratch version of Stack (above)."
   ]
  }
 ],
 "metadata": {
  "kernelspec": {
   "display_name": "Python 3 (ipykernel)",
   "language": "python",
   "name": "python3"
  },
  "language_info": {
   "codemirror_mode": {
    "name": "ipython",
    "version": 3
   },
   "file_extension": ".py",
   "mimetype": "text/x-python",
   "name": "python",
   "nbconvert_exporter": "python",
   "pygments_lexer": "ipython3",
   "version": "3.13.2"
  }
 },
 "nbformat": 4,
 "nbformat_minor": 5
}
