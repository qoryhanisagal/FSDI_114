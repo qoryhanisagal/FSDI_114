{
 "cells": [
  {
   "cell_type": "markdown",
   "id": "280742e3-7608-4ad4-a95d-245dc4cb965a",
   "metadata": {},
   "source": [
    "# Homework\n",
    "\n",
    "## Challenge 1\n",
    "- Update the stack class above, such that the size method has a worst case time complexity of O(1)."
   ]
  },
  {
   "cell_type": "markdown",
   "id": "5af4f1de-c502-4c8c-b4ca-a06d1374ccfa",
   "metadata": {},
   "source": [
    "## Practice\n",
    "\n",
    "- **My Question 1: When I currently call .size(), why is it O(n)? What is the function doing that takes linear time**\n",
    "\n",
    "- If I have 1 item or 1,000 items in the stack, this loop runs 1 time or 1,000 times\n",
    "- So, the `.size() method` literally walk through every single node from the top to the bottom to count how many there are. \n",
    "\n",
    "    - **Why is it O(n)?**\n",
    "    - The time it takes grows directly with how many nodes(items) I have.\n",
    "\n",
    "- **My Question 2: What could I do to avoid walking through every item just to get the size?**\n",
    "    - I could store in a variable? If I keep track of the size as I go, I dont have to loop through the stack to calculate it every time.\n",
    "- **But when will we need to update that variable?**\n",
    "- **What actions chnage the size of the stack? Push Increases the size and Pop decreases the size.**\n",
    "- **Where should I actually store this variable in the `class` so it’s always accessible?**\n",
    "    - My guess would be to store it in the `Stack class` as an attribute so it is available throught the object's lifecycle.\n",
    "- When exactly should I implement self.size? In the method that increases the size of the stack\n",
    "------\n",
    "**In Step 2, Always update self.size **after** the item is successfully added to the stack**\n",
    "    - Whether the stack was empty or already had items, I've now added one more item so increase the counter by 1.\n",
    "**In Step 3 I need to decrenebt the size so I need to use the pop method as it decreases the stack size**\n",
    "\n",
    "- **When I remove the top item from the stack, I should:**\n",
    "1.\tGet the value to return.\n",
    "2.\tMove self.top down to the next node.\n",
    "3.\tDecrease the size counter by 1.\n",
    "4.\tReturn the popped value.\n",
    "5.\n",
    "**Time Complexity**\n",
    "1.\tWhen the update happens (as changes occur).\n",
    "2.\tWhat that prevents (avoids looping later).\n",
    "3.\tThe result (constant time O(1))."
   ]
  },
  {
   "cell_type": "code",
   "execution_count": 2,
   "id": "462c9f14-d9fb-465f-9c80-3be1fbb5d459",
   "metadata": {},
   "outputs": [],
   "source": [
    "class Stack:\n",
    "    class _Node:  # Inner class to represent each \"node\" (like each item in the stack)\n",
    "        def __init__(self, datum):\n",
    "            self.data = datum   # This is the value you store (like a number or string)\n",
    "            self.below = None   # This points to the node \"below\" it in the stack\n",
    "    \n",
    "    def __init__(self):\n",
    "        self.top = None  # Initially, the stack is empty (no top item yet\n",
    "        # Step 1: Start size at zero because the stack is empty\n",
    "        self.size = 0   \n",
    "\n",
    "        # Push: Add a value to the top of the stack\n",
    "    def push(self, value):\n",
    "        new_node = self._Node(value)  # Create a new node with the value\n",
    "        if not self.top:  # If the stack is empty, set the top to the new node\n",
    "            self.top = new_node\n",
    "        else:  # If not empty, link the new node to the current top and update the top\n",
    "            new_node.below = self.top\n",
    "            self.top = new_node\n",
    "    \n",
    "        ## Step 2: Update the size after adding the new node\n",
    "        self.size += 1\n",
    "\n",
    "    def pop(self):\n",
    "        if self.is_empty():\n",
    "            raise IndexError(\"Stack is empty!\")  # Can't pop from an empty stack\n",
    "    \n",
    "        datum = self.top.data           # Get the value from the top node\n",
    "        self.top = self.top.below       # Move the top pointer down to the next node\n",
    "        self.size -= 1                  # Decrease the size by 1 after popping\n",
    "        return datum\n",
    "\n",
    "    def peek(self):\n",
    "        if self.is_empty():\n",
    "            return None  # Nothing to peek at\n",
    "        return self.top.data  # Return the value at the top\n",
    "        raise IndexError(\"Stack is empty!\")\n",
    "\n",
    "    def size(self):\n",
    "        return self.size  # O(1) time complexity"
   ]
  },
  {
   "cell_type": "code",
   "execution_count": null,
   "id": "8f18639c-95bb-45b2-9962-d104e6a75fd2",
   "metadata": {},
   "outputs": [],
   "source": []
  }
 ],
 "metadata": {
  "kernelspec": {
   "display_name": "Python 3 (ipykernel)",
   "language": "python",
   "name": "python3"
  },
  "language_info": {
   "codemirror_mode": {
    "name": "ipython",
    "version": 3
   },
   "file_extension": ".py",
   "mimetype": "text/x-python",
   "name": "python",
   "nbconvert_exporter": "python",
   "pygments_lexer": "ipython3",
   "version": "3.13.2"
  }
 },
 "nbformat": 4,
 "nbformat_minor": 5
}
