{
 "cells": [
  {
   "cell_type": "markdown",
   "id": "39a5bc9c-9122-40f4-8271-efd55ff60548",
   "metadata": {},
   "source": [
    "# Recursive Functions\n",
    "- A recursive function is a function that calls itself at least once. The exit condition for a recursvice function is typically referred to as \"the base case\"."
   ]
  },
  {
   "cell_type": "code",
   "execution_count": 1,
   "id": "cc523a02-0bfe-4623-96d6-1bc8eeb1ce31",
   "metadata": {},
   "outputs": [],
   "source": [
    "# # Factorial function \n",
    "# # n! = nx(n-1)x(n-2)...1\n",
    "# # 5! = 5x4x3x2x1\n",
    "# # 0! = 1\n",
    "# # 5! = 5x4!\n",
    "# # 4! = 4x3!\n",
    "\n",
    "# def factorial(n):\n",
    "#     if n == 0:\n",
    "#         return 1\n",
    "#     return n*factorial(n-1)"
   ]
  },
  {
   "cell_type": "code",
   "execution_count": 2,
   "id": "0e3db284-b552-4e32-bb59-4d4ae8dd0fa1",
   "metadata": {},
   "outputs": [
    {
     "data": {
      "text/plain": [
       "120"
      ]
     },
     "execution_count": 2,
     "metadata": {},
     "output_type": "execute_result"
    }
   ],
   "source": [
    "factorial(5)"
   ]
  },
  {
   "cell_type": "code",
   "execution_count": null,
   "id": "f7e85249-79e9-42db-a05d-79c8bd7bac1c",
   "metadata": {},
   "outputs": [],
   "source": [
    "- Factorial function uses alot of memory waiting for the base case. Factorial are more memory intensive while Iterative function or more process intensive"
   ]
  },
  {
   "cell_type": "code",
   "execution_count": 3,
   "id": "2a6de3e6-2d8a-4295-b0b1-7f858d763727",
   "metadata": {},
   "outputs": [],
   "source": [
    "# # Fibonacci\n",
    "\n",
    "# # Two base case (Two facts we know to be true)\n",
    "\n",
    "# # F0 = 0\n",
    "# # F1 = 1\n",
    "\n",
    "# # Fn = F(n-1) + F(n-2)\n",
    "\n",
    "# # 0, 1, 1, 2, 3, 5, 8, 13, 21, 34 ....\n",
    "\n",
    "# def fib(n):\n",
    "#     if n < 2:\n",
    "#         return n\n",
    "#     return fib(n-1) + fib(n-2)"
   ]
  },
  {
   "cell_type": "markdown",
   "id": "14748cac-88a5-4255-a840-f21ec77f70b9",
   "metadata": {},
   "source": [
    "# Do not try this for number greater than 50 (yet)\n",
    "fib(50) # Why we do this? \n",
    "\t1.\tTake an extremely long time to finish.\n",
    "\t2.\tOr even worse, cause a maximum recursion depth error in Python.\n",
    "** Why does this happen?**\n",
    "1. Exponential Growth of Recursive Calls\n",
    "\t•\tEvery time you calculate fib(n), it calls fib(n-1) and fib(n-2).\n",
    "\t•\tBut fib(n-1) calls fib(n-2) and fib(n-3), and so on…\n",
    "\t•\tThis creates a massive “call tree” of redundant calculations.\n",
    "\n",
    "Example:\n",
    "\t•\tTo calculate fib(5), you calculate:\n",
    "\t•\tfib(4) and fib(3)\n",
    "\t•\tBut to calculate fib(4), you also calculate fib(3) and fib(2).\n",
    "\t•\tYou can see fib(3) is being calculated multiple times unnecessarily.\n",
    "\n",
    "This is known as overlapping subproblems.\n",
    "\n",
    "⸻\n",
    "\n",
    "2. Time Complexity Is O(2ⁿ)\n",
    "\t•\tEach recursive call spawns two more recursive calls.\n",
    "\t•\tThis grows exponentially.\n",
    "\t•\tFor fib(50) the number of recursive calls is astronomical—well over a trillion calls!\n",
    "\n",
    "⸻\n",
    "\n",
    "3. Recursion Depth Limit in Python\n",
    "\t•\tBy default, Python has a recursion limit (usually around 1000 frames).\n",
    "\t•\tfib(50) easily exceeds that recursion depth without optimization, resulting in a RecursionError.\n"
   ]
  },
  {
   "cell_type": "markdown",
   "id": "0d01e20e-d9fe-4d86-a41e-5da7d7c017b7",
   "metadata": {},
   "source": [
    "** How do we solve it?**\n",
    "1.\tMemoization (Caching Results)\n",
    "•\tStore previously calculated values to avoid redundant work.\n",
    "•\tYou can use functools.lru_cache or implement a manual cache."
   ]
  },
  {
   "cell_type": "code",
   "execution_count": null,
   "id": "ccf2c5d0-ffb1-4eb4-9299-c11a2dbfdfbd",
   "metadata": {},
   "outputs": [],
   "source": [
    "from functools import lru_cache\n",
    "\n",
    "@lru_cache\n",
    "def fib(n):\n",
    "    if n < 2:\n",
    "        return n\n",
    "    return fib(n-1) + fib(n-2)"
   ]
  },
  {
   "cell_type": "markdown",
   "id": "b4577dce-8ea5-42f8-97ff-02daf6ce5eaf",
   "metadata": {},
   "source": [
    "![Fibonacci_Memoization](./Fibonacci_and_Memoization.png)"
   ]
  },
  {
   "cell_type": "code",
   "execution_count": null,
   "id": "193bb103-9d8b-47ef-92b8-88c6a58706fe",
   "metadata": {},
   "outputs": [],
   "source": [
    "# Implement the fibonacci function (recursive function) using a dictionary.\n",
    "# If the value for the parameter \"n\" that would be given to the function exists in the key as a dictionary, simply return its value.\n",
    "# Otherwise, call the fibonacci function, store the key–value pair associated with it in the dictionary, and return the solution."
   ]
  },
  {
   "cell_type": "code",
   "execution_count": 5,
   "id": "b44ec6da-027a-4724-ad4b-a46c1ac3dd16",
   "metadata": {},
   "outputs": [],
   "source": [
    "# Create a global dictionary to store previously computed Fibonacci values\n",
    "# Create a global dictionary called cache\n",
    "\n",
    "# Define the function fib with one parameter: n\n",
    "#   n is the Fibonacci number we want to calculate\n",
    "\n",
    "# Define function fib(n):\n",
    "\n",
    "    # Step 1: Handle base cases - The first two numbers in the Fibonacci sequence are fixed.\n",
    "    # If n is less than 2:\n",
    "        # Return n\n",
    "        # WHY? By definition:\n",
    "        # F(0) = 0 and F(1) = 1\n",
    "        # These values are the foundation of the sequence.\n",
    "\n",
    "    # Step 2: Check the global cache for a precomputed result\n",
    "    # If n exists in the cache:\n",
    "        # Return cache[n]\n",
    "        # WHY? This avoids redundant computation.\n",
    "        # We’re reusing a value we’ve already worked hard to get!\n",
    "\n",
    "    # Step 3: Solve recursively and store result in cache\n",
    "    # If not already cached, compute fib(n-1) and fib(n-2)\n",
    "    # Set cache[n] = fib(n - 1) + fib(n - 2)\n",
    "    # WHY? Each Fibonacci number is built from the two numbers before it.\n",
    "\n",
    "    # Step 4: Return the cached result\n",
    "    # Return cache[n]\n",
    "    # WHY? Now that it's in the cache, the next time we call fib(n), it's instant!"
   ]
  },
  {
   "cell_type": "code",
   "execution_count": 13,
   "id": "3c69f05e-aff3-4e0c-ac6b-3ae31ca6f836",
   "metadata": {},
   "outputs": [
    {
     "name": "stdout",
     "output_type": "stream",
     "text": [
      "0\n",
      "1\n",
      "1\n",
      "2\n",
      "3\n",
      "5\n",
      "8\n",
      "13\n",
      "12586269025\n"
     ]
    }
   ],
   "source": [
    "# Create a global cache\n",
    "cache = {}\n",
    "\n",
    "def fib(n):\n",
    "    if n < 2:\n",
    "        return n\n",
    "    if n in cache:\n",
    "        return cache[n]\n",
    "    cache[n] = fib(n - 1) + fib(n - 2)\n",
    "    return cache[n]\n",
    "\n",
    "print(fib(0))    # Expected output: 0\n",
    "print(fib(1))    # Expected output: 1\n",
    "print(fib(2))    # Expected output: 1\n",
    "print(fib(3))    # Expected output: 2\n",
    "print(fib(4))    # Expected output: 3\n",
    "print(fib(5))    # Expected output: 5\n",
    "print(fib(6))    # Expected output: 8\n",
    "print(fib(7))    # Expected output: 13\n",
    "print(fib(50))   # Expected output: 12586269025 "
   ]
  },
  {
   "cell_type": "code",
   "execution_count": null,
   "id": "4aefb68b-6b94-4fd6-9188-c5d1ac6a4d66",
   "metadata": {},
   "outputs": [],
   "source": []
  }
 ],
 "metadata": {
  "kernelspec": {
   "display_name": "Python 3 (ipykernel)",
   "language": "python",
   "name": "python3"
  },
  "language_info": {
   "codemirror_mode": {
    "name": "ipython",
    "version": 3
   },
   "file_extension": ".py",
   "mimetype": "text/x-python",
   "name": "python",
   "nbconvert_exporter": "python",
   "pygments_lexer": "ipython3",
   "version": "3.13.2"
  }
 },
 "nbformat": 4,
 "nbformat_minor": 5
}
