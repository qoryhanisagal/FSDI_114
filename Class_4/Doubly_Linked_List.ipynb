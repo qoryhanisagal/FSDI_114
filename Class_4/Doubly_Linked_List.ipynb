{
 "cells": [
  {
   "cell_type": "code",
   "execution_count": null,
   "id": "d813f561-4e9e-48f1-9f37-ac1e7bfd77d6",
   "metadata": {},
   "outputs": [],
   "source": [
    "2. Doubly linked lists – also known as bi-directional lists.\n",
    "![Doubly Linked List](./Doubly_Linked_List.png)"
   ]
  },
  {
   "cell_type": "code",
   "execution_count": null,
   "id": "77e24c58-56a9-445a-8fce-67e32fe49868",
   "metadata": {},
   "outputs": [],
   "source": [
    "class DoublyLinkedList:\n",
    "    class __Node:\n",
    "        def __init__(self, datum):\n",
    "            self.data = datum    # Store the value of the node\n",
    "            self.next = None     # Reference to the next node\n",
    "            self.prev = None     # Reference to the previous node\n",
    "\n",
    "    def __init__(self):\n",
    "        self.head = None  # Reference to the first node\n",
    "        self.tail = None  # Reference to the last node\n",
    "        self.size = 0     # Tracks the size of the list\n",
    "\n",
    "    def append(self, value):\n",
    "        new_node = self.__Node(value)  # Create a new node\n",
    "        self.size += 1  # Update size since we're adding a new node\n",
    "\n",
    "        if not self.head:  # Case: List is empty\n",
    "            self.head = new_node\n",
    "            self.tail = new_node\n",
    "        else:  # Case: List is not empty\n",
    "            self.tail.next = new_node  # Link the current tail to new node\n",
    "            new_node.prev = self.tail  # Link the new node back to current tail\n",
    "            self.tail = new_node       # Update tail to new node\n",
    "\n",
    "    def remove(self, value):\n",
    "        # Homework 1: Removes the first instance of value\n",
    "        pass\n",
    "\n",
    "    def __str__(self):\n",
    "        out = \"[\"  # Start of string representation\n",
    "        current = self.head  # Start from head node\n",
    "\n",
    "        if current:  # If list is not empty\n",
    "            out += \"%s\" % current.data  # Add first node's data\n",
    "            current = current.next\n",
    "\n",
    "            while current:\n",
    "                out += \", %s\" % current.data  # Add remaining nodes with comma\n",
    "                current = current.next\n",
    "\n",
    "        out += \"]\"  # Close string\n",
    "        return out\n",
    "\n",
    "    def __len__(self):\n",
    "        return self.size  # Allows len() to return the number of nodes\n",
    "\n",
    "    def __get__(self, index):\n",
    "        # Homework 2: returns the value associated with \"index\" if it exists, \n",
    "        # raises IndexError otherwise\n",
    "        return 0  # Placeholder return value for now"
   ]
  },
  {
   "cell_type": "markdown",
   "id": "200b45fb-e0ae-4cb6-9ccf-cff1ed8d0cb9",
   "metadata": {},
   "source": [
    "# Homework 1: Remove  Method"
   ]
  },
  {
   "cell_type": "markdown",
   "id": "db41a671-1261-4c2f-86e3-66e0c1eecaa0",
   "metadata": {},
   "source": [
    "#### Triples A's\n",
    "- **What's the Goal?**\n",
    "- Remiove the first instance of a given value from the linked list.\n",
    "- **What Do I Have?**\n",
    "- Access to self.head(start of the list).\n",
    "- Access self.tail\n"
   ]
  },
  {
   "cell_type": "markdown",
   "id": "089e7d66-0c33-44ec-bf1d-fb54526979f2",
   "metadata": {},
   "source": [
    "# Homework 2: \n"
   ]
  },
  {
   "cell_type": "code",
   "execution_count": null,
   "id": "bb898ad8-d3c1-4345-9a68-6ba50543411a",
   "metadata": {},
   "outputs": [],
   "source": []
  }
 ],
 "metadata": {
  "kernelspec": {
   "display_name": "Python 3 (ipykernel)",
   "language": "python",
   "name": "python3"
  },
  "language_info": {
   "codemirror_mode": {
    "name": "ipython",
    "version": 3
   },
   "file_extension": ".py",
   "mimetype": "text/x-python",
   "name": "python",
   "nbconvert_exporter": "python",
   "pygments_lexer": "ipython3",
   "version": "3.13.2"
  }
 },
 "nbformat": 4,
 "nbformat_minor": 5
}
